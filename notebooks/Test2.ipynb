{
 "cells": [
  {
   "cell_type": "code",
   "execution_count": 3,
   "metadata": {},
   "outputs": [],
   "source": [
    "#!python numbers=disable\n",
    "from matplotlib         import pylab as p\n",
    "from matplotlib.text import Text\n",
    "\n",
    "class DragHandler(object):\n",
    "    \"\"\" A simple class to handle Drag n Drop.\n",
    "\n",
    "    This is a simple example, which works for Text objects only\n",
    "    \"\"\"\n",
    "    def __init__(self, figure=None) :\n",
    "        \"\"\" Create a new drag handler and connect it to the figure's event system.\n",
    "        If the figure handler is not given, the current figure is used instead\n",
    "        \"\"\"\n",
    "\n",
    "        if figure is None : figure = p.gcf()\n",
    "        # simple attibute to store the dragged text object\n",
    "        self.dragged = None\n",
    "\n",
    "        # Connect events and callbacks\n",
    "        figure.canvas.mpl_connect(\"pick_event\", self.on_pick_event)\n",
    "        figure.canvas.mpl_connect(\"button_release_event\", self.on_release_event)\n",
    "\n",
    "    def on_pick_event(self, event):\n",
    "        \" Store which text object was picked and were the pick event occurs.\"\n",
    "\n",
    "        if isinstance(event.artist, Text):\n",
    "            self.dragged = event.artist\n",
    "            self.pick_pos = (event.mouseevent.xdata, event.mouseevent.ydata)\n",
    "        return True\n",
    "\n",
    "    def on_release_event(self, event):\n",
    "        \" Update text position and redraw\"\n",
    "\n",
    "        if self.dragged is not None :\n",
    "            old_pos = self.dragged.get_position()\n",
    "            new_pos = (old_pos[0] + event.xdata - self.pick_pos[0],\n",
    "                       old_pos[1] + event.ydata - self.pick_pos[1])\n",
    "            self.dragged.set_position(new_pos)\n",
    "            self.dragged = None\n",
    "            p.draw()\n",
    "        return True"
   ]
  },
  {
   "cell_type": "code",
   "execution_count": 5,
   "metadata": {},
   "outputs": [
    {
     "data": {
      "image/png": "[encoded data removed]",
      "text/plain": [
       "<Figure size 640x480 with 1 Axes>"
      ]
     },
     "metadata": {},
     "output_type": "display_data"
    }
   ],
   "source": [
    "#! python numbers=disable\n",
    "\n",
    "# Usage example\n",
    "from numpy import *\n",
    "\n",
    "# Create arbitrary points and labels\n",
    "x, y = random.normal(5, 2, size=(2, 9))\n",
    "labels = [ \"Point %d\" % i for i in arange(x.size)]\n",
    "\n",
    "# trace a scatter plot\n",
    "p.scatter(x, y)\n",
    "p.grid()\n",
    "\n",
    "# add labels and set their picker attribute to True\n",
    "for a,b,l in zip(x,y, labels):\n",
    "    p.text(a, b, l, picker=True)\n",
    "\n",
    "# Create the event hendler \n",
    "dragh = DragHandler()\n",
    "\n",
    "p.show()"
   ]
  },
  {
   "cell_type": "code",
   "execution_count": null,
   "metadata": {},
   "outputs": [],
   "source": []
  }
 ],
 "metadata": {
  "kernelspec": {
   "display_name": "Python 3",
   "language": "python",
   "name": "python3"
  },
  "language_info": {
   "codemirror_mode": {
    "name": "ipython",
    "version": 3
   },
   "file_extension": ".py",
   "mimetype": "text/x-python",
   "name": "python",
   "nbconvert_exporter": "python",
   "pygments_lexer": "ipython3",
   "version": "3.8.3"
  }
 },
 "nbformat": 4,
 "nbformat_minor": 2
}
