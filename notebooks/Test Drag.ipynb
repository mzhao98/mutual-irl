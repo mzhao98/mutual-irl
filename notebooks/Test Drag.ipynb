{
 "cells": [
  {
   "cell_type": "code",
   "execution_count": 1,
   "metadata": {},
   "outputs": [
    {
     "ename": "KeyboardInterrupt",
     "evalue": "",
     "output_type": "error",
     "traceback": [
      "\u001b[0;31m---------------------------------------------------------------------------\u001b[0m",
      "\u001b[0;31mKeyboardInterrupt\u001b[0m                         Traceback (most recent call last)",
      "Cell \u001b[0;32mIn [1], line 28\u001b[0m\n\u001b[1;32m     25\u001b[0m label2\u001b[38;5;241m.\u001b[39mbind(\u001b[38;5;124m\"\u001b[39m\u001b[38;5;124m<Button-1>\u001b[39m\u001b[38;5;124m\"\u001b[39m,drag_start)\n\u001b[1;32m     26\u001b[0m label2\u001b[38;5;241m.\u001b[39mbind(\u001b[38;5;124m\"\u001b[39m\u001b[38;5;124m<B1-Motion>\u001b[39m\u001b[38;5;124m\"\u001b[39m,drag_motion)\n\u001b[0;32m---> 28\u001b[0m window\u001b[38;5;241m.\u001b[39mmainloop()\n",
      "File \u001b[0;32m/opt/anaconda3/lib/python3.8/tkinter/__init__.py:1420\u001b[0m, in \u001b[0;36mMisc.mainloop\u001b[0;34m(self, n)\u001b[0m\n\u001b[1;32m   1418\u001b[0m \u001b[38;5;28;01mdef\u001b[39;00m \u001b[38;5;21mmainloop\u001b[39m(\u001b[38;5;28mself\u001b[39m, n\u001b[38;5;241m=\u001b[39m\u001b[38;5;241m0\u001b[39m):\n\u001b[1;32m   1419\u001b[0m     \u001b[38;5;124;03m\"\"\"Call the mainloop of Tk.\"\"\"\u001b[39;00m\n\u001b[0;32m-> 1420\u001b[0m     \u001b[38;5;28;43mself\u001b[39;49m\u001b[38;5;241;43m.\u001b[39;49m\u001b[43mtk\u001b[49m\u001b[38;5;241;43m.\u001b[39;49m\u001b[43mmainloop\u001b[49m\u001b[43m(\u001b[49m\u001b[43mn\u001b[49m\u001b[43m)\u001b[49m\n",
      "\u001b[0;31mKeyboardInterrupt\u001b[0m: "
     ]
    }
   ],
   "source": [
    "from tkinter import *\n",
    "\n",
    "def drag_start(event):\n",
    "    widget = event.widget\n",
    "    widget.startX = event.x\n",
    "    widget.startY = event.y\n",
    "\n",
    "def drag_motion(event):\n",
    "    widget = event.widget\n",
    "    x = widget.winfo_x() - widget.startX + event.x\n",
    "    y = widget.winfo_y() - widget.startY + event.y\n",
    "    widget.place(x=x,y=y)\n",
    "\n",
    "window = Tk()\n",
    "\n",
    "label = Label(window,bg=\"red\",width=10,height=5)\n",
    "label.place(x=0,y=0)\n",
    "\n",
    "label2 = Label(window,bg=\"blue\",width=10,height=5)\n",
    "label2.place(x=100,y=100)\n",
    "\n",
    "label.bind(\"<Button-1>\",drag_start)\n",
    "label.bind(\"<B1-Motion>\",drag_motion)\n",
    "\n",
    "label2.bind(\"<Button-1>\",drag_start)\n",
    "label2.bind(\"<B1-Motion>\",drag_motion)\n",
    "\n",
    "window.mainloop()"
   ]
  },
  {
   "cell_type": "code",
   "execution_count": null,
   "metadata": {},
   "outputs": [],
   "source": []
  }
 ],
 "metadata": {
  "kernelspec": {
   "display_name": "Python 3",
   "language": "python",
   "name": "python3"
  },
  "language_info": {
   "codemirror_mode": {
    "name": "ipython",
    "version": 3
   },
   "file_extension": ".py",
   "mimetype": "text/x-python",
   "name": "python",
   "nbconvert_exporter": "python",
   "pygments_lexer": "ipython3",
   "version": "3.8.3"
  }
 },
 "nbformat": 4,
 "nbformat_minor": 2
}
